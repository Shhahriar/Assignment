{
 "cells": [
  {
   "cell_type": "code",
   "execution_count": 3,
   "id": "9dfc34aa-0e8d-4cee-beb0-c556e652e961",
   "metadata": {},
   "outputs": [
    {
     "name": "stdin",
     "output_type": "stream",
     "text": [
      "Multiplication Table Of:  2\n"
     ]
    },
    {
     "name": "stdout",
     "output_type": "stream",
     "text": [
      "2 x 1 = 2\n",
      "2 x 2 = 4\n",
      "2 x 3 = 6\n",
      "2 x 4 = 8\n",
      "2 x 5 = 10\n",
      "2 x 6 = 12\n",
      "2 x 7 = 14\n",
      "2 x 8 = 16\n",
      "2 x 9 = 18\n",
      "2 x 10 = 20\n",
      "3 x 1 = 3\n",
      "3 x 2 = 6\n",
      "3 x 3 = 9\n",
      "3 x 4 = 12\n",
      "3 x 5 = 15\n",
      "3 x 6 = 18\n",
      "3 x 7 = 21\n",
      "3 x 8 = 24\n",
      "3 x 9 = 27\n",
      "3 x 10 = 30\n"
     ]
    }
   ],
   "source": [
    "def generate_multiplication_table(number):\n",
    "    print(number,\"x 1 =\",number*1)\n",
    "    print(number,\"x 2 =\",number*2)\n",
    "    print(number,\"x 3 =\",number*3)\n",
    "    print(number,\"x 4 =\",number*4)\n",
    "    print(number,\"x 5 =\",number*5)\n",
    "    print(number,\"x 6 =\",number*6)\n",
    "    print(number,\"x 7 =\",number*7)\n",
    "    print(number,\"x 8 =\",number*8)\n",
    "    print(number,\"x 9 =\",number*9)\n",
    "    print(number,\"x 10 =\",number*10)\n",
    "\n",
    "number = int(input(\"Multiplication Table Of: \"))\n",
    "generate_multiplication_table(number)\n",
    "generate_multiplication_table(number+1)"
   ]
  },
  {
   "cell_type": "code",
   "execution_count": null,
   "id": "12b28dca-0a71-4b47-975e-abf1df67b03b",
   "metadata": {},
   "outputs": [],
   "source": []
  }
 ],
 "metadata": {
  "kernelspec": {
   "display_name": "Python 3 (ipykernel)",
   "language": "python",
   "name": "python3"
  },
  "language_info": {
   "codemirror_mode": {
    "name": "ipython",
    "version": 3
   },
   "file_extension": ".py",
   "mimetype": "text/x-python",
   "name": "python",
   "nbconvert_exporter": "python",
   "pygments_lexer": "ipython3",
   "version": "3.12.7"
  }
 },
 "nbformat": 4,
 "nbformat_minor": 5
}
